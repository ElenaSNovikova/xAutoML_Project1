{
 "cells": [
  {
   "cell_type": "code",
   "execution_count": 2,
   "id": "518504de-9a2a-432f-9b21-04d21c89e23e",
   "metadata": {
    "collapsed": true,
    "jupyter": {
     "outputs_hidden": true
    },
    "tags": []
   },
   "outputs": [
    {
     "name": "stdout",
     "output_type": "stream",
     "text": [
      "Defaulting to user installation because normal site-packages is not writeable\n",
      "Collecting hyperopt\n",
      "  Downloading hyperopt-0.2.7-py2.py3-none-any.whl (1.6 MB)\n",
      "\u001b[2K     \u001b[38;2;114;156;31m━━━━━━━━━━━━━━━━━━━━━━━━━━━━━━━━━━━━━━━━\u001b[0m \u001b[32m1.6/1.6 MB\u001b[0m \u001b[31m8.2 MB/s\u001b[0m eta \u001b[36m0:00:00\u001b[0m[31m8.6 MB/s\u001b[0m eta \u001b[36m0:00:01\u001b[0m\n",
      "\u001b[?25hCollecting future\n",
      "  Using cached future-0.18.2-py3-none-any.whl\n",
      "Collecting py4j\n",
      "  Downloading py4j-0.10.9.7-py2.py3-none-any.whl (200 kB)\n",
      "\u001b[2K     \u001b[38;2;114;156;31m━━━━━━━━━━━━━━━━━━━━━━━━━━━━━━━━━━━━━━\u001b[0m \u001b[32m200.5/200.5 KB\u001b[0m \u001b[31m14.3 MB/s\u001b[0m eta \u001b[36m0:00:00\u001b[0m\n",
      "\u001b[?25hRequirement already satisfied: numpy in /home/oleksandr/.local/lib/python3.10/site-packages (from hyperopt) (1.22.3)\n",
      "Requirement already satisfied: six in /usr/lib/python3/dist-packages (from hyperopt) (1.16.0)\n",
      "Requirement already satisfied: networkx>=2.2 in /home/oleksandr/.local/lib/python3.10/site-packages (from hyperopt) (2.8.7)\n",
      "Requirement already satisfied: cloudpickle in /home/oleksandr/.local/lib/python3.10/site-packages (from hyperopt) (2.2.0)\n",
      "Requirement already satisfied: tqdm in /home/oleksandr/.local/lib/python3.10/site-packages (from hyperopt) (4.64.0)\n",
      "Requirement already satisfied: scipy in /home/oleksandr/.local/lib/python3.10/site-packages (from hyperopt) (1.8.0)\n",
      "Installing collected packages: py4j, future, hyperopt\n",
      "Successfully installed future-0.18.2 hyperopt-0.2.7 py4j-0.10.9.7\n"
     ]
    }
   ],
   "source": [
    "! pip3 install  hyperopt"
   ]
  },
  {
   "cell_type": "code",
   "execution_count": 25,
   "id": "f0ba1841-3800-4bf1-bf8a-4043d8f902ea",
   "metadata": {},
   "outputs": [],
   "source": [
    "import pickle as pkl\n",
    "import pandas as pd\n",
    "import numpy as np\n",
    "\n",
    "from sklearn.ensemble import ExtraTreesClassifier\n",
    "from sklearn.model_selection import StratifiedKFold, train_test_split\n",
    "from sklearn.metrics import f1_score\n",
    "\n",
    "from hyperopt import fmin, hp, tpe, Trials, space_eval, STATUS_OK\n",
    "RANDOM_SEED: int = 42\n",
    "np.random.seed(RANDOM_SEED)"
   ]
  },
  {
   "cell_type": "code",
   "execution_count": 16,
   "id": "fba287ef-fd18-42ea-877d-a0abe5cfab30",
   "metadata": {},
   "outputs": [],
   "source": [
    "# Loading train/test datasets and results df\n",
    "ds_arr = []\n",
    "paths = ['data/X_train.pkl', 'data/X_test.pkl', 'data/y_train.pkl', 'data/y_test.pkl']\n",
    "results_df_path = 'model_cmp.csv'\n",
    "\n",
    "\n",
    "for pth in paths:\n",
    "    with open(pth, 'rb') as f:\n",
    "        ds_arr.append(pkl.load(f))\n",
    "        \n",
    "        \n",
    "X_train, X_test, y_train, y_test = ds_arr\n",
    "results = pd.read_csv(results_df_path)\n",
    "results = results.set_index('Unnamed: 0')\n"
   ]
  },
  {
   "cell_type": "code",
   "execution_count": 21,
   "id": "fe111417-5189-4a99-84c0-1d4c0eb3cad9",
   "metadata": {},
   "outputs": [
    {
     "data": {
      "text/plain": [
       "fold_1    0.845070\n",
       "fold_2    0.863309\n",
       "fold_3    0.857143\n",
       "fold_4    0.853333\n",
       "fold_5    0.853147\n",
       "Name: ExtraTreesClassifier, dtype: float64"
      ]
     },
     "execution_count": 21,
     "metadata": {},
     "output_type": "execute_result"
    }
   ],
   "source": [
    "baseline_folds = results.loc['ExtraTreesClassifier']\n",
    "baseline_folds"
   ]
  },
  {
   "cell_type": "code",
   "execution_count": 26,
   "id": "f5139a25-79fd-4f96-9dc7-51346e7bc483",
   "metadata": {},
   "outputs": [],
   "source": [
    "skf = StratifiedKFold(n_splits=5, shuffle=True, random_state=RANDOM_SEED)"
   ]
  },
  {
   "cell_type": "code",
   "execution_count": 44,
   "id": "17b5a395-8fa9-4a13-b55c-b840e5d9e647",
   "metadata": {},
   "outputs": [],
   "source": [
    "def objective_cv(params):\n",
    "    f1_scores = []\n",
    "    for train_index, test_index in skf.split(X_train, y_train):\n",
    "        X_train_cv, X_val = X_train.iloc[train_index], X_train.iloc[test_index]\n",
    "        y_train_cv, y_val = y_train.iloc[train_index], y_train.iloc[test_index]\n",
    "        model = ExtraTreesClassifier(random_state=42, n_jobs=-1, **params).fit(X_train_cv, y_train_cv)\n",
    "        score = f1_score(y_val, model.predict(X_val))\n",
    "        f1_scores.append(score)\n",
    "    return {'loss': -np.mean(f1_scores), 'status': STATUS_OK}"
   ]
  },
  {
   "cell_type": "code",
   "execution_count": 45,
   "id": "73205a1a-ba3f-4efd-b310-519a410924bb",
   "metadata": {},
   "outputs": [],
   "source": [
    "def objective_fast(params):\n",
    "    X_train_cv, X_val, y_train_cv, y_val =  train_test_split(X_train, y_train, test_size=.2, random_state=RANDOM_SEED)\n",
    "    model = ExtraTreesClassifier(random_state=42, n_jobs=-1, **params).fit(X_train_cv, y_train_cv)\n",
    "    score = f1_score(y_val, model.predict(X_val))\n",
    "    return {'loss': score, 'status': STATUS_OK}"
   ]
  },
  {
   "cell_type": "code",
   "execution_count": 41,
   "id": "a848c7a7-51c3-406b-9d60-fbcd74515c8e",
   "metadata": {},
   "outputs": [
    {
     "name": "stdout",
     "output_type": "stream",
     "text": [
      "100%|██████████████████████████████████████████████████████████████████████████████████████████████████████████████████████| 10/10 [12:44<00:00, 76.43s/trial, best loss: -0.3004532200419838]\n"
     ]
    },
    {
     "data": {
      "text/plain": [
       "{'criterion': 2,\n",
       " 'max_depth': 13,\n",
       " 'max_features': 1,\n",
       " 'min_samples_leaf': 4,\n",
       " 'min_samples_split': 0.04176960300765731,\n",
       " 'n_estimators': 908}"
      ]
     },
     "execution_count": 41,
     "metadata": {},
     "output_type": "execute_result"
    }
   ],
   "source": [
    "best_params = fmin(\n",
    "  fn=objective,\n",
    "  space=search_space,\n",
    "  algo=algorithm,\n",
    "  max_evals=10)\n",
    "best_params"
   ]
  },
  {
   "cell_type": "code",
   "execution_count": 47,
   "id": "754c33e7-ce97-490f-958d-96899c40eac9",
   "metadata": {},
   "outputs": [
    {
     "data": {
      "text/plain": [
       "{'criterion': 'log_loss',\n",
       " 'max_depth': 13,\n",
       " 'max_features': 'log2',\n",
       " 'min_samples_leaf': 4,\n",
       " 'min_samples_split': 0.04176960300765731,\n",
       " 'n_estimators': 908}"
      ]
     },
     "execution_count": 47,
     "metadata": {},
     "output_type": "execute_result"
    }
   ],
   "source": [
    "space_eval(search_space, best_params)"
   ]
  },
  {
   "cell_type": "code",
   "execution_count": 48,
   "id": "19330012-6709-46b1-a5ad-1a4904d5d4bb",
   "metadata": {},
   "outputs": [],
   "source": [
    "from hyperopt import rand"
   ]
  },
  {
   "cell_type": "code",
   "execution_count": 40,
   "id": "5b6397eb-5a0b-4500-9444-da8571637bfb",
   "metadata": {},
   "outputs": [],
   "source": [
    "search_space={'n_estimators':hp.randint('n_estimators',200,1000),\n",
    "              'max_depth': hp.randint('max_depth',10,200),           \n",
    "              'min_samples_split':hp.uniform('min_samples_split',0,1),   \n",
    "             'min_samples_leaf':hp.randint('min_samples_leaf',1,10),\n",
    "              'criterion':hp.choice('criterion', ['gini','entropy', 'log_loss']),\n",
    "                'max_features':hp.choice('max_features',['sqrt', 'log2']) }\n",
    "algorithm=tpe.suggest"
   ]
  },
  {
   "cell_type": "code",
   "execution_count": 53,
   "id": "6105aa1d-ac80-4347-a993-5fa71f6556dc",
   "metadata": {},
   "outputs": [],
   "source": [
    "def run_experiment(search_space, budget:int = 10, use_cv: bool =True, method: str = 'random') -> float:\n",
    "    if use_cv:\n",
    "        objective = objective_cv\n",
    "    else:\n",
    "        objective = objective_fast\n",
    "    \n",
    "    if method == 'random':\n",
    "        method = rand.suggest\n",
    "    elif method == 'tpe':\n",
    "        method = tpe.suggest\n",
    "    \n",
    "    best_params = fmin(\n",
    "        fn=objective,\n",
    "        space=search_space,\n",
    "        algo=method,\n",
    "        max_evals=budget)\n",
    "    \n",
    "    return space_eval(search_space, best_params), objective(space_eval(search_space, best_params))\n",
    "    \n",
    "    "
   ]
  },
  {
   "cell_type": "code",
   "execution_count": 55,
   "id": "7172da90-a2c7-494a-bc4e-f7c908b3139b",
   "metadata": {},
   "outputs": [
    {
     "name": "stdout",
     "output_type": "stream",
     "text": [
      "100%|████████████████████████████████████████████████████████████████████████████████████████████████████████████████████████| 5/5 [01:35<00:00, 19.10s/trial, best loss: 0.05714285714285715]\n"
     ]
    },
    {
     "data": {
      "text/plain": [
       "({'criterion': 'log_loss',\n",
       "  'max_depth': 121,\n",
       "  'max_features': 'log2',\n",
       "  'min_samples_leaf': 7,\n",
       "  'min_samples_split': 0.3344253644309838,\n",
       "  'n_estimators': 546},\n",
       " {'loss': 0.05714285714285715, 'status': 'ok'})"
      ]
     },
     "execution_count": 55,
     "metadata": {},
     "output_type": "execute_result"
    }
   ],
   "source": [
    "run_experiment(search_space, 5, use_cv=False, method='tpe')"
   ]
  }
 ],
 "metadata": {
  "kernelspec": {
   "display_name": "Python 3 (ipykernel)",
   "language": "python",
   "name": "python3"
  },
  "language_info": {
   "codemirror_mode": {
    "name": "ipython",
    "version": 3
   },
   "file_extension": ".py",
   "mimetype": "text/x-python",
   "name": "python",
   "nbconvert_exporter": "python",
   "pygments_lexer": "ipython3",
   "version": "3.10.4"
  }
 },
 "nbformat": 4,
 "nbformat_minor": 5
}
