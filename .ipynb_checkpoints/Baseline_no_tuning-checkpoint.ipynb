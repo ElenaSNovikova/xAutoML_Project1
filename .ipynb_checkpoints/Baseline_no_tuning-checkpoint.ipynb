{
 "cells": [
  {
   "cell_type": "code",
   "execution_count": 108,
   "id": "f36ee5b0-ff53-44e8-beb8-bee55935f4cb",
   "metadata": {},
   "outputs": [],
   "source": [
    "import pandas as pd\n",
    "import numpy as np\n",
    "import pickle as pkl\n",
    "\n",
    "from sklearn.model_selection import StratifiedKFold, train_test_split\n",
    "from sklearn.discriminant_analysis import LinearDiscriminantAnalysis, QuadraticDiscriminantAnalysis\n",
    "from sklearn.linear_model  import LogisticRegression, PassiveAggressiveClassifier, Lasso\n",
    "from sklearn.tree import DecisionTreeClassifier\n",
    "from sklearn.neighbors import KNeighborsClassifier\n",
    "from sklearn.svm import SVC\n",
    "from sklearn.ensemble import RandomForestClassifier, ExtraTreesClassifier, AdaBoostClassifier, BaggingClassifier\n",
    "from sklearn.naive_bayes import GaussianNB\n",
    "from sklearn.neural_network import MLPClassifier\n",
    "from sklearn.dummy import DummyClassifier\n",
    "from sklearn.metrics import f1_score\n",
    "\n",
    "from statsmodels.stats.contingency_tables import mcnemar\n",
    "from scikit_posthocs import posthoc_nemenyi_friedman, posthoc_wilcoxon\n",
    "\n",
    "from tqdm import tqdm\n",
    "\n",
    "models = [DummyClassifier, LinearDiscriminantAnalysis, QuadraticDiscriminantAnalysis, LogisticRegression, DecisionTreeClassifier, KNeighborsClassifier, SVC, RandomForestClassifier, ExtraTreesClassifier, \n",
    "          GaussianNB, MLPClassifier, PassiveAggressiveClassifier]\n",
    "\n",
    "RANDOM_SEED: int = 42"
   ]
  },
  {
   "cell_type": "code",
   "execution_count": 2,
   "id": "6455da01-2995-4f1a-a3d6-60a68ad602e9",
   "metadata": {},
   "outputs": [
    {
     "data": {
      "text/plain": [
       "13"
      ]
     },
     "execution_count": 2,
     "metadata": {},
     "output_type": "execute_result"
    }
   ],
   "source": [
    "len(models)"
   ]
  },
  {
   "cell_type": "code",
   "execution_count": 3,
   "id": "19ec6b5d-5c36-4c75-aef0-3478ea509811",
   "metadata": {},
   "outputs": [
    {
     "data": {
      "text/html": [
       "<div>\n",
       "<style scoped>\n",
       "    .dataframe tbody tr th:only-of-type {\n",
       "        vertical-align: middle;\n",
       "    }\n",
       "\n",
       "    .dataframe tbody tr th {\n",
       "        vertical-align: top;\n",
       "    }\n",
       "\n",
       "    .dataframe thead th {\n",
       "        text-align: right;\n",
       "    }\n",
       "</style>\n",
       "<table border=\"1\" class=\"dataframe\">\n",
       "  <thead>\n",
       "    <tr style=\"text-align: right;\">\n",
       "      <th></th>\n",
       "      <th>Time</th>\n",
       "      <th>V1</th>\n",
       "      <th>V2</th>\n",
       "      <th>V3</th>\n",
       "      <th>V4</th>\n",
       "      <th>V5</th>\n",
       "      <th>V6</th>\n",
       "      <th>V7</th>\n",
       "      <th>V8</th>\n",
       "      <th>V9</th>\n",
       "      <th>...</th>\n",
       "      <th>V21</th>\n",
       "      <th>V22</th>\n",
       "      <th>V23</th>\n",
       "      <th>V24</th>\n",
       "      <th>V25</th>\n",
       "      <th>V26</th>\n",
       "      <th>V27</th>\n",
       "      <th>V28</th>\n",
       "      <th>Amount</th>\n",
       "      <th>Class</th>\n",
       "    </tr>\n",
       "  </thead>\n",
       "  <tbody>\n",
       "    <tr>\n",
       "      <th>0</th>\n",
       "      <td>0.0</td>\n",
       "      <td>-1.359807</td>\n",
       "      <td>-0.072781</td>\n",
       "      <td>2.536347</td>\n",
       "      <td>1.378155</td>\n",
       "      <td>-0.338321</td>\n",
       "      <td>0.462388</td>\n",
       "      <td>0.239599</td>\n",
       "      <td>0.098698</td>\n",
       "      <td>0.363787</td>\n",
       "      <td>...</td>\n",
       "      <td>-0.018307</td>\n",
       "      <td>0.277838</td>\n",
       "      <td>-0.110474</td>\n",
       "      <td>0.066928</td>\n",
       "      <td>0.128539</td>\n",
       "      <td>-0.189115</td>\n",
       "      <td>0.133558</td>\n",
       "      <td>-0.021053</td>\n",
       "      <td>149.62</td>\n",
       "      <td>0</td>\n",
       "    </tr>\n",
       "    <tr>\n",
       "      <th>1</th>\n",
       "      <td>0.0</td>\n",
       "      <td>1.191857</td>\n",
       "      <td>0.266151</td>\n",
       "      <td>0.166480</td>\n",
       "      <td>0.448154</td>\n",
       "      <td>0.060018</td>\n",
       "      <td>-0.082361</td>\n",
       "      <td>-0.078803</td>\n",
       "      <td>0.085102</td>\n",
       "      <td>-0.255425</td>\n",
       "      <td>...</td>\n",
       "      <td>-0.225775</td>\n",
       "      <td>-0.638672</td>\n",
       "      <td>0.101288</td>\n",
       "      <td>-0.339846</td>\n",
       "      <td>0.167170</td>\n",
       "      <td>0.125895</td>\n",
       "      <td>-0.008983</td>\n",
       "      <td>0.014724</td>\n",
       "      <td>2.69</td>\n",
       "      <td>0</td>\n",
       "    </tr>\n",
       "    <tr>\n",
       "      <th>2</th>\n",
       "      <td>1.0</td>\n",
       "      <td>-1.358354</td>\n",
       "      <td>-1.340163</td>\n",
       "      <td>1.773209</td>\n",
       "      <td>0.379780</td>\n",
       "      <td>-0.503198</td>\n",
       "      <td>1.800499</td>\n",
       "      <td>0.791461</td>\n",
       "      <td>0.247676</td>\n",
       "      <td>-1.514654</td>\n",
       "      <td>...</td>\n",
       "      <td>0.247998</td>\n",
       "      <td>0.771679</td>\n",
       "      <td>0.909412</td>\n",
       "      <td>-0.689281</td>\n",
       "      <td>-0.327642</td>\n",
       "      <td>-0.139097</td>\n",
       "      <td>-0.055353</td>\n",
       "      <td>-0.059752</td>\n",
       "      <td>378.66</td>\n",
       "      <td>0</td>\n",
       "    </tr>\n",
       "    <tr>\n",
       "      <th>3</th>\n",
       "      <td>1.0</td>\n",
       "      <td>-0.966272</td>\n",
       "      <td>-0.185226</td>\n",
       "      <td>1.792993</td>\n",
       "      <td>-0.863291</td>\n",
       "      <td>-0.010309</td>\n",
       "      <td>1.247203</td>\n",
       "      <td>0.237609</td>\n",
       "      <td>0.377436</td>\n",
       "      <td>-1.387024</td>\n",
       "      <td>...</td>\n",
       "      <td>-0.108300</td>\n",
       "      <td>0.005274</td>\n",
       "      <td>-0.190321</td>\n",
       "      <td>-1.175575</td>\n",
       "      <td>0.647376</td>\n",
       "      <td>-0.221929</td>\n",
       "      <td>0.062723</td>\n",
       "      <td>0.061458</td>\n",
       "      <td>123.50</td>\n",
       "      <td>0</td>\n",
       "    </tr>\n",
       "    <tr>\n",
       "      <th>4</th>\n",
       "      <td>2.0</td>\n",
       "      <td>-1.158233</td>\n",
       "      <td>0.877737</td>\n",
       "      <td>1.548718</td>\n",
       "      <td>0.403034</td>\n",
       "      <td>-0.407193</td>\n",
       "      <td>0.095921</td>\n",
       "      <td>0.592941</td>\n",
       "      <td>-0.270533</td>\n",
       "      <td>0.817739</td>\n",
       "      <td>...</td>\n",
       "      <td>-0.009431</td>\n",
       "      <td>0.798278</td>\n",
       "      <td>-0.137458</td>\n",
       "      <td>0.141267</td>\n",
       "      <td>-0.206010</td>\n",
       "      <td>0.502292</td>\n",
       "      <td>0.219422</td>\n",
       "      <td>0.215153</td>\n",
       "      <td>69.99</td>\n",
       "      <td>0</td>\n",
       "    </tr>\n",
       "  </tbody>\n",
       "</table>\n",
       "<p>5 rows × 31 columns</p>\n",
       "</div>"
      ],
      "text/plain": [
       "   Time        V1        V2        V3        V4        V5        V6        V7  \\\n",
       "0   0.0 -1.359807 -0.072781  2.536347  1.378155 -0.338321  0.462388  0.239599   \n",
       "1   0.0  1.191857  0.266151  0.166480  0.448154  0.060018 -0.082361 -0.078803   \n",
       "2   1.0 -1.358354 -1.340163  1.773209  0.379780 -0.503198  1.800499  0.791461   \n",
       "3   1.0 -0.966272 -0.185226  1.792993 -0.863291 -0.010309  1.247203  0.237609   \n",
       "4   2.0 -1.158233  0.877737  1.548718  0.403034 -0.407193  0.095921  0.592941   \n",
       "\n",
       "         V8        V9  ...       V21       V22       V23       V24       V25  \\\n",
       "0  0.098698  0.363787  ... -0.018307  0.277838 -0.110474  0.066928  0.128539   \n",
       "1  0.085102 -0.255425  ... -0.225775 -0.638672  0.101288 -0.339846  0.167170   \n",
       "2  0.247676 -1.514654  ...  0.247998  0.771679  0.909412 -0.689281 -0.327642   \n",
       "3  0.377436 -1.387024  ... -0.108300  0.005274 -0.190321 -1.175575  0.647376   \n",
       "4 -0.270533  0.817739  ... -0.009431  0.798278 -0.137458  0.141267 -0.206010   \n",
       "\n",
       "        V26       V27       V28  Amount  Class  \n",
       "0 -0.189115  0.133558 -0.021053  149.62      0  \n",
       "1  0.125895 -0.008983  0.014724    2.69      0  \n",
       "2 -0.139097 -0.055353 -0.059752  378.66      0  \n",
       "3 -0.221929  0.062723  0.061458  123.50      0  \n",
       "4  0.502292  0.219422  0.215153   69.99      0  \n",
       "\n",
       "[5 rows x 31 columns]"
      ]
     },
     "execution_count": 3,
     "metadata": {},
     "output_type": "execute_result"
    }
   ],
   "source": [
    "df = pd.read_csv('data/creditcard.csv')\n",
    "df.head()"
   ]
  },
  {
   "cell_type": "code",
   "execution_count": 4,
   "id": "850b8d6f-6368-4af5-a24b-c29e4b48ce96",
   "metadata": {},
   "outputs": [],
   "source": [
    "X,y = df.drop('Class', axis=1), df.Class"
   ]
  },
  {
   "cell_type": "code",
   "execution_count": 5,
   "id": "68b5e4e8-d130-49a5-a6df-ffa2ad202b66",
   "metadata": {},
   "outputs": [],
   "source": [
    "# Stratification for balanced test set\n",
    "X_train, X_test, y_train, y_test = train_test_split(X, y, random_state=RANDOM_SEED, test_size=.2, stratify=y)"
   ]
  },
  {
   "cell_type": "code",
   "execution_count": 6,
   "id": "f9757ed5-3eb8-41f7-ad14-66a8cac184fe",
   "metadata": {},
   "outputs": [],
   "source": [
    "N_FOLDS: int = 5"
   ]
  },
  {
   "cell_type": "code",
   "execution_count": 7,
   "id": "2c5c5669-f909-4c11-a0ac-4c5965433090",
   "metadata": {},
   "outputs": [],
   "source": [
    "skf = StratifiedKFold(n_splits=5, shuffle=True, random_state=RANDOM_SEED)"
   ]
  },
  {
   "cell_type": "code",
   "execution_count": 26,
   "id": "fa8957b9-c6fc-4322-bf66-d11f8f1d64c5",
   "metadata": {},
   "outputs": [],
   "source": [
    "parallelize = [RandomForestClassifier, ExtraTreesClassifier, BaggingClassifier]"
   ]
  },
  {
   "cell_type": "code",
   "execution_count": 32,
   "id": "9c680157-8f04-4d5b-974f-bf02ea22d294",
   "metadata": {},
   "outputs": [
    {
     "name": "stderr",
     "output_type": "stream",
     "text": [
      "12it [01:38,  8.21s/it]\n",
      "3it [00:01,  1.97it/s]/home/oleksandr/.local/lib/python3.10/site-packages/sklearn/linear_model/_logistic.py:444: ConvergenceWarning: lbfgs failed to converge (status=1):\n",
      "STOP: TOTAL NO. of ITERATIONS REACHED LIMIT.\n",
      "\n",
      "Increase the number of iterations (max_iter) or scale the data as shown in:\n",
      "    https://scikit-learn.org/stable/modules/preprocessing.html\n",
      "Please also refer to the documentation for alternative solver options:\n",
      "    https://scikit-learn.org/stable/modules/linear_model.html#logistic-regression\n",
      "  n_iter_i = _check_optimize_result(\n",
      "12it [01:12,  6.01s/it]\n",
      "3it [00:01,  2.18it/s]/home/oleksandr/.local/lib/python3.10/site-packages/sklearn/linear_model/_logistic.py:444: ConvergenceWarning: lbfgs failed to converge (status=1):\n",
      "STOP: TOTAL NO. of ITERATIONS REACHED LIMIT.\n",
      "\n",
      "Increase the number of iterations (max_iter) or scale the data as shown in:\n",
      "    https://scikit-learn.org/stable/modules/preprocessing.html\n",
      "Please also refer to the documentation for alternative solver options:\n",
      "    https://scikit-learn.org/stable/modules/linear_model.html#logistic-regression\n",
      "  n_iter_i = _check_optimize_result(\n",
      "12it [01:23,  6.94s/it]\n",
      "3it [00:01,  2.42it/s]/home/oleksandr/.local/lib/python3.10/site-packages/sklearn/linear_model/_logistic.py:444: ConvergenceWarning: lbfgs failed to converge (status=1):\n",
      "STOP: TOTAL NO. of ITERATIONS REACHED LIMIT.\n",
      "\n",
      "Increase the number of iterations (max_iter) or scale the data as shown in:\n",
      "    https://scikit-learn.org/stable/modules/preprocessing.html\n",
      "Please also refer to the documentation for alternative solver options:\n",
      "    https://scikit-learn.org/stable/modules/linear_model.html#logistic-regression\n",
      "  n_iter_i = _check_optimize_result(\n",
      "12it [01:27,  7.32s/it]\n",
      "3it [00:01,  2.01it/s]/home/oleksandr/.local/lib/python3.10/site-packages/sklearn/linear_model/_logistic.py:444: ConvergenceWarning: lbfgs failed to converge (status=1):\n",
      "STOP: TOTAL NO. of ITERATIONS REACHED LIMIT.\n",
      "\n",
      "Increase the number of iterations (max_iter) or scale the data as shown in:\n",
      "    https://scikit-learn.org/stable/modules/preprocessing.html\n",
      "Please also refer to the documentation for alternative solver options:\n",
      "    https://scikit-learn.org/stable/modules/linear_model.html#logistic-regression\n",
      "  n_iter_i = _check_optimize_result(\n",
      "12it [01:17,  6.49s/it]\n"
     ]
    }
   ],
   "source": [
    "results = np.zeros((len(models), N_FOLDS))\n",
    "cur_fold = 0\n",
    "np.random.seed(RANDOM_SEED)\n",
    "\n",
    "for train_index, test_index in skf.split(X_train, y_train):\n",
    "    X_train_cv, X_val = X_train.iloc[train_index], X_train.iloc[test_index]\n",
    "    y_train_cv, y_val = y_train.iloc[train_index], y_train.iloc[test_index]\n",
    "    \n",
    "    for i, clf in tqdm(enumerate(models)):\n",
    "        if clf not in parallelize:\n",
    "            clf = clf().fit(X_train_cv, y_train_cv)\n",
    "        else:\n",
    "             clf = clf(n_jobs=-1).fit(X_train_cv, y_train_cv)\n",
    "        score = f1_score(y_val, clf.predict(X_val))\n",
    "        results[i, cur_fold] = score\n",
    "    cur_fold += 1\n",
    "    "
   ]
  },
  {
   "cell_type": "code",
   "execution_count": 34,
   "id": "f8be5985-e1b2-4b05-bb89-8edb61fd07ff",
   "metadata": {},
   "outputs": [],
   "source": [
    "from scipy.stats import friedmanchisquare"
   ]
  },
  {
   "cell_type": "code",
   "execution_count": 38,
   "id": "626ab98f-d99e-4227-bf95-4e4cfef25fcc",
   "metadata": {},
   "outputs": [
    {
     "data": {
      "text/plain": [
       "FriedmanchisquareResult(statistic=53.67937853107345, pvalue=1.3504298193596668e-07)"
      ]
     },
     "execution_count": 38,
     "metadata": {},
     "output_type": "execute_result"
    }
   ],
   "source": [
    "friedmanchisquare(*results.tolist())"
   ]
  },
  {
   "cell_type": "markdown",
   "id": "ed5aa489-eede-4eb7-bfa1-61ba70a782c8",
   "metadata": {},
   "source": [
    "Here we can see that at keast 1 model is statistically significantly different that all others"
   ]
  },
  {
   "cell_type": "code",
   "execution_count": 39,
   "id": "9f066a70-e8f6-4f18-b913-adb444f76515",
   "metadata": {},
   "outputs": [
    {
     "name": "stdout",
     "output_type": "stream",
     "text": [
      "Defaulting to user installation because normal site-packages is not writeable\n",
      "Collecting scikit-posthocs\n",
      "  Downloading scikit_posthocs-0.7.0-py3-none-any.whl (38 kB)\n",
      "Requirement already satisfied: numpy in /home/oleksandr/.local/lib/python3.10/site-packages (from scikit-posthocs) (1.22.3)\n",
      "Requirement already satisfied: pandas>=0.20.0 in /home/oleksandr/.local/lib/python3.10/site-packages (from scikit-posthocs) (1.4.2)\n",
      "Requirement already satisfied: scipy in /home/oleksandr/.local/lib/python3.10/site-packages (from scikit-posthocs) (1.8.0)\n",
      "Collecting statsmodels\n",
      "  Downloading statsmodels-0.13.5-cp310-cp310-manylinux_2_17_x86_64.manylinux2014_x86_64.whl (9.9 MB)\n",
      "\u001b[2K     \u001b[38;2;114;156;31m━━━━━━━━━━━━━━━━━━━━━━━━━━━━━━━━━━━━━━━━\u001b[0m \u001b[32m9.9/9.9 MB\u001b[0m \u001b[31m9.6 MB/s\u001b[0m eta \u001b[36m0:00:00\u001b[0mm eta \u001b[36m0:00:01\u001b[0m00:01\u001b[0m01\u001b[0m\n",
      "\u001b[?25hRequirement already satisfied: seaborn in /home/oleksandr/.local/lib/python3.10/site-packages (from scikit-posthocs) (0.11.2)\n",
      "Requirement already satisfied: matplotlib in /home/oleksandr/.local/lib/python3.10/site-packages (from scikit-posthocs) (3.5.2)\n",
      "Requirement already satisfied: pytz>=2020.1 in /usr/lib/python3/dist-packages (from pandas>=0.20.0->scikit-posthocs) (2022.1)\n",
      "Requirement already satisfied: python-dateutil>=2.8.1 in /home/oleksandr/.local/lib/python3.10/site-packages (from pandas>=0.20.0->scikit-posthocs) (2.8.2)\n",
      "Requirement already satisfied: packaging>=20.0 in /usr/lib/python3/dist-packages (from matplotlib->scikit-posthocs) (21.3)\n",
      "Requirement already satisfied: cycler>=0.10 in /home/oleksandr/.local/lib/python3.10/site-packages (from matplotlib->scikit-posthocs) (0.11.0)\n",
      "Requirement already satisfied: pillow>=6.2.0 in /usr/lib/python3/dist-packages (from matplotlib->scikit-posthocs) (9.0.1)\n",
      "Requirement already satisfied: fonttools>=4.22.0 in /home/oleksandr/.local/lib/python3.10/site-packages (from matplotlib->scikit-posthocs) (4.33.3)\n",
      "Requirement already satisfied: kiwisolver>=1.0.1 in /home/oleksandr/.local/lib/python3.10/site-packages (from matplotlib->scikit-posthocs) (1.4.2)\n",
      "Requirement already satisfied: pyparsing>=2.2.1 in /usr/lib/python3/dist-packages (from matplotlib->scikit-posthocs) (2.4.7)\n",
      "Collecting patsy>=0.5.2\n",
      "  Downloading patsy-0.5.3-py2.py3-none-any.whl (233 kB)\n",
      "\u001b[2K     \u001b[38;2;114;156;31m━━━━━━━━━━━━━━━━━━━━━━━━━━━━━━━━━━━━━━\u001b[0m \u001b[32m233.8/233.8 KB\u001b[0m \u001b[31m15.0 MB/s\u001b[0m eta \u001b[36m0:00:00\u001b[0m\n",
      "\u001b[?25hRequirement already satisfied: six in /usr/lib/python3/dist-packages (from patsy>=0.5.2->statsmodels->scikit-posthocs) (1.16.0)\n",
      "Installing collected packages: patsy, statsmodels, scikit-posthocs\n",
      "Successfully installed patsy-0.5.3 scikit-posthocs-0.7.0 statsmodels-0.13.5\n"
     ]
    }
   ],
   "source": [
    "! pip3 install scikit-posthocs\n"
   ]
  },
  {
   "cell_type": "code",
   "execution_count": 107,
   "id": "5179c0b2-5865-4f6c-a6ae-375114f6973e",
   "metadata": {},
   "outputs": [
    {
     "data": {
      "text/plain": [
       "array([[0.        , 0.        , 0.        , 0.        , 0.        ],\n",
       "       [0.8137931 , 0.83098592, 0.7972973 , 0.83870968, 0.79452055],\n",
       "       [0.11774601, 0.11551724, 0.10500808, 0.124057  , 0.11083123],\n",
       "       [0.66257669, 0.68874172, 0.725     , 0.7012987 , 0.67080745],\n",
       "       [0.75324675, 0.78947368, 0.78431373, 0.70857143, 0.80519481],\n",
       "       [0.09756098, 0.1627907 , 0.13953488, 0.13953488, 0.04938272],\n",
       "       [0.        , 0.        , 0.        , 0.        , 0.        ],\n",
       "       [0.84285714, 0.84671533, 0.82758621, 0.84768212, 0.86111111],\n",
       "       [0.84507042, 0.86330935, 0.85714286, 0.85333333, 0.85314685],\n",
       "       [0.21029083, 0.25192802, 0.22171946, 0.25892857, 0.23614458],\n",
       "       [0.55652174, 0.54545455, 0.24528302, 0.04878049, 0.23747681],\n",
       "       [0.02409639, 0.        , 0.09638554, 0.        , 0.        ]])"
      ]
     },
     "execution_count": 107,
     "metadata": {},
     "output_type": "execute_result"
    }
   ],
   "source": [
    "results"
   ]
  },
  {
   "cell_type": "code",
   "execution_count": 56,
   "id": "4791ec5a-5d73-467a-a843-20df44bffdfa",
   "metadata": {},
   "outputs": [
    {
     "data": {
      "text/plain": [
       "(array([0.8137931 , 0.83098592, 0.7972973 , 0.83870968, 0.79452055]),\n",
       " array([0.75324675, 0.78947368, 0.78431373, 0.70857143, 0.80519481]),\n",
       " array([0.84507042, 0.86330935, 0.85714286, 0.85333333, 0.85314685]),\n",
       " array([0.84285714, 0.84671533, 0.82758621, 0.84768212, 0.86111111]))"
      ]
     },
     "execution_count": 56,
     "metadata": {},
     "output_type": "execute_result"
    }
   ],
   "source": [
    "results[1, :], results[4, :], results[-4, :],results[-5, :]"
   ]
  },
  {
   "cell_type": "markdown",
   "id": "ad71b2a2-d1a9-46e7-b408-7bd617667147",
   "metadata": {},
   "source": [
    "Let's compare best results"
   ]
  },
  {
   "cell_type": "code",
   "execution_count": 57,
   "id": "e5ab5f73-3988-4828-a7fb-471d5891196a",
   "metadata": {},
   "outputs": [
    {
     "data": {
      "text/plain": [
       "FriedmanchisquareResult(statistic=13.079999999999998, pvalue=0.004466756369997713)"
      ]
     },
     "execution_count": 57,
     "metadata": {},
     "output_type": "execute_result"
    }
   ],
   "source": [
    "friedmanchisquare(results[1, :], results[4, :], results[-4, :],results[-5, :])"
   ]
  },
  {
   "cell_type": "code",
   "execution_count": 60,
   "id": "5d13c58a-7e3e-4cb4-9de9-49552d8bf04a",
   "metadata": {},
   "outputs": [],
   "source": [
    "next_mtr = np.array([results[1, :], results[4, :], results[-4, :],results[-5, :]])"
   ]
  },
  {
   "cell_type": "code",
   "execution_count": 61,
   "id": "74387c2d-59e4-4b98-af93-5fe13d9b6e5c",
   "metadata": {},
   "outputs": [
    {
     "data": {
      "text/html": [
       "<div>\n",
       "<style scoped>\n",
       "    .dataframe tbody tr th:only-of-type {\n",
       "        vertical-align: middle;\n",
       "    }\n",
       "\n",
       "    .dataframe tbody tr th {\n",
       "        vertical-align: top;\n",
       "    }\n",
       "\n",
       "    .dataframe thead th {\n",
       "        text-align: right;\n",
       "    }\n",
       "</style>\n",
       "<table border=\"1\" class=\"dataframe\">\n",
       "  <thead>\n",
       "    <tr style=\"text-align: right;\">\n",
       "      <th></th>\n",
       "      <th>0</th>\n",
       "      <th>1</th>\n",
       "      <th>2</th>\n",
       "      <th>3</th>\n",
       "    </tr>\n",
       "  </thead>\n",
       "  <tbody>\n",
       "    <tr>\n",
       "      <th>0</th>\n",
       "      <td>1.000000</td>\n",
       "      <td>0.872678</td>\n",
       "      <td>0.068212</td>\n",
       "      <td>0.316064</td>\n",
       "    </tr>\n",
       "    <tr>\n",
       "      <th>1</th>\n",
       "      <td>0.872678</td>\n",
       "      <td>1.000000</td>\n",
       "      <td>0.007913</td>\n",
       "      <td>0.068212</td>\n",
       "    </tr>\n",
       "    <tr>\n",
       "      <th>2</th>\n",
       "      <td>0.068212</td>\n",
       "      <td>0.007913</td>\n",
       "      <td>1.000000</td>\n",
       "      <td>0.872678</td>\n",
       "    </tr>\n",
       "    <tr>\n",
       "      <th>3</th>\n",
       "      <td>0.316064</td>\n",
       "      <td>0.068212</td>\n",
       "      <td>0.872678</td>\n",
       "      <td>1.000000</td>\n",
       "    </tr>\n",
       "  </tbody>\n",
       "</table>\n",
       "</div>"
      ],
      "text/plain": [
       "          0         1         2         3\n",
       "0  1.000000  0.872678  0.068212  0.316064\n",
       "1  0.872678  1.000000  0.007913  0.068212\n",
       "2  0.068212  0.007913  1.000000  0.872678\n",
       "3  0.316064  0.068212  0.872678  1.000000"
      ]
     },
     "execution_count": 61,
     "metadata": {},
     "output_type": "execute_result"
    }
   ],
   "source": [
    "posthoc_nemenyi_friedman(next_mtr.T)"
   ]
  },
  {
   "cell_type": "code",
   "execution_count": 62,
   "id": "f65cd446-3c7a-4a5f-a512-712c72b7700a",
   "metadata": {},
   "outputs": [
    {
     "data": {
      "text/plain": [
       "array([[0.8137931 , 0.83098592, 0.7972973 , 0.83870968, 0.79452055],\n",
       "       [0.75324675, 0.78947368, 0.78431373, 0.70857143, 0.80519481],\n",
       "       [0.84507042, 0.86330935, 0.85714286, 0.85333333, 0.85314685],\n",
       "       [0.84285714, 0.84671533, 0.82758621, 0.84768212, 0.86111111]])"
      ]
     },
     "execution_count": 62,
     "metadata": {},
     "output_type": "execute_result"
    }
   ],
   "source": [
    "next_mtr"
   ]
  },
  {
   "cell_type": "markdown",
   "id": "9adc480c-7561-4b07-b913-6f6351e027d7",
   "metadata": {},
   "source": [
    "We can see that samples -4 and -5 are rougly equal"
   ]
  },
  {
   "cell_type": "code",
   "execution_count": 64,
   "id": "27f8158b-2b19-4961-88b3-e9afd0b228d7",
   "metadata": {},
   "outputs": [
    {
     "data": {
      "text/plain": [
       "(sklearn.ensemble._forest.ExtraTreesClassifier,\n",
       " sklearn.ensemble._forest.RandomForestClassifier)"
      ]
     },
     "execution_count": 64,
     "metadata": {},
     "output_type": "execute_result"
    }
   ],
   "source": [
    "models[-4], models[-5]"
   ]
  },
  {
   "cell_type": "markdown",
   "id": "5ba66c01-454f-4428-9a01-6dec2833cb81",
   "metadata": {},
   "source": [
    "Let's compare them on a test set"
   ]
  },
  {
   "cell_type": "code",
   "execution_count": 65,
   "id": "29029549-cc34-4d06-a16b-e3568a0aef74",
   "metadata": {},
   "outputs": [],
   "source": [
    "clf1 = ExtraTreesClassifier(n_jobs=-1).fit(X_train, y_train)\n",
    "clf2 = RandomForestClassifier(n_jobs=-1).fit(X_train, y_train)"
   ]
  },
  {
   "cell_type": "code",
   "execution_count": 68,
   "id": "8b9a7a06-7dcd-4a88-a1d3-f190d11c530c",
   "metadata": {},
   "outputs": [],
   "source": [
    "y_pred_clf1 = clf1.predict(X_test)\n",
    "y_pred_clf2 = clf2.predict(X_test)"
   ]
  },
  {
   "cell_type": "code",
   "execution_count": 69,
   "id": "1f9be7a3-4f82-461a-abe2-12f3c5be73a8",
   "metadata": {},
   "outputs": [
    {
     "data": {
      "text/plain": [
       "0.8791208791208791"
      ]
     },
     "execution_count": 69,
     "metadata": {},
     "output_type": "execute_result"
    }
   ],
   "source": [
    "f1_score(y_test, y_pred_clf1)"
   ]
  },
  {
   "cell_type": "code",
   "execution_count": 70,
   "id": "b2b05727-deb7-421b-bbea-0f8e4d094347",
   "metadata": {},
   "outputs": [
    {
     "data": {
      "text/plain": [
       "0.8729281767955801"
      ]
     },
     "execution_count": 70,
     "metadata": {},
     "output_type": "execute_result"
    }
   ],
   "source": [
    "f1_score(y_test, y_pred_clf2)"
   ]
  },
  {
   "cell_type": "code",
   "execution_count": 80,
   "id": "e0cacdfc-8c25-4781-8d66-bcf508093c1b",
   "metadata": {},
   "outputs": [],
   "source": [
    "A = ((y_pred_clf1 == y_test) & (y_pred_clf2 == y_test)).sum()\n",
    "B = ((y_pred_clf1 != y_test) & (y_pred_clf2 == y_test)).sum()\n",
    "C = ((y_pred_clf1 == y_test) & (y_pred_clf2 != y_test)).sum()\n",
    "D = ((y_pred_clf1 != y_test) & (y_pred_clf2 != y_test)).sum()"
   ]
  },
  {
   "cell_type": "code",
   "execution_count": 84,
   "id": "46758e6d-f5db-4832-8e14-01d16e116ee0",
   "metadata": {},
   "outputs": [
    {
     "data": {
      "text/plain": [
       "1.0"
      ]
     },
     "execution_count": 84,
     "metadata": {},
     "output_type": "execute_result"
    }
   ],
   "source": [
    "mcnemar([[A, B], [C, D]]).pvalue"
   ]
  },
  {
   "cell_type": "markdown",
   "id": "58aa3173-313b-4949-8cc3-7d473f890e54",
   "metadata": {},
   "source": [
    "Because models are not so different, let's choose the one with the best F1-score. "
   ]
  },
  {
   "cell_type": "code",
   "execution_count": 86,
   "id": "341acf75-6945-476c-8b06-2afad60287eb",
   "metadata": {},
   "outputs": [],
   "source": [
    "results_df =  pd.DataFrame(results)"
   ]
  },
  {
   "cell_type": "code",
   "execution_count": 97,
   "id": "ebe6352c-6611-4d24-91ce-11e69346aa4a",
   "metadata": {},
   "outputs": [],
   "source": [
    "model_names = [x.__name__ for x in models]\n",
    "results_df.index = model_names\n",
    "results_df.columns = [f'fold_{i+1}' for i in range(N_FOLDS)]"
   ]
  },
  {
   "cell_type": "code",
   "execution_count": 99,
   "id": "0c44a131-d1a8-4733-9c15-d2263c410c81",
   "metadata": {},
   "outputs": [],
   "source": [
    "results_df.to_csv('model_cmp.csv')"
   ]
  },
  {
   "cell_type": "code",
   "execution_count": 104,
   "id": "f736cd1c-34ce-4831-b13d-6fad040c4b06",
   "metadata": {},
   "outputs": [],
   "source": [
    "with open('data/X_train.pkl', 'wb') as f:\n",
    "    pkl.dump(X_train, f)\n",
    "with open('data/X_test.pkl', 'wb') as f:\n",
    "    pkl.dump(X_test, f)\n",
    "with open('data/y_train.pkl', 'wb') as f:\n",
    "    pkl.dump(y_train, f)\n",
    "with open('data/y_test.pkl', 'wb') as f:\n",
    "    pkl.dump(y_test, f)"
   ]
  }
 ],
 "metadata": {
  "kernelspec": {
   "display_name": "Python 3 (ipykernel)",
   "language": "python",
   "name": "python3"
  },
  "language_info": {
   "codemirror_mode": {
    "name": "ipython",
    "version": 3
   },
   "file_extension": ".py",
   "mimetype": "text/x-python",
   "name": "python",
   "nbconvert_exporter": "python",
   "pygments_lexer": "ipython3",
   "version": "3.10.4"
  }
 },
 "nbformat": 4,
 "nbformat_minor": 5
}
